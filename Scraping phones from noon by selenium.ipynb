{
 "cells": [
  {
   "cell_type": "code",
   "execution_count": 76,
   "id": "8bba6939-c5a5-430f-b3bd-c8f51825adf4",
   "metadata": {},
   "outputs": [],
   "source": [
    "from selenium import webdriver\n",
    "from selenium.webdriver.common.by import By\n",
    "from selenium.webdriver.support import expected_conditions as EC\n",
    "from selenium.webdriver.chrome.service import Service\n",
    "import time\n",
    "import pandas as pd\n"
   ]
  },
  {
   "cell_type": "code",
   "execution_count": 77,
   "id": "9400a617-bec6-46a2-80fa-47a1d33512b8",
   "metadata": {},
   "outputs": [],
   "source": [
    "# Set up the driver\n",
    "path = r\"D:\\Data Engineer\\python\\Python code\\Web Scraping\\Selenium\\the chrome driver\\chromedriver.exe\"\n",
    "service = Service(executable_path=path)\n",
    "driver = webdriver.Chrome(service=service)\n",
    "driver.maximize_window()"
   ]
  },
  {
   "cell_type": "code",
   "execution_count": 78,
   "id": "36c6b434-3528-4d75-a9c4-1be3336524f6",
   "metadata": {},
   "outputs": [],
   "source": [
    "phone_name_list = []\n",
    "phone_price_list = []"
   ]
  },
  {
   "cell_type": "code",
   "execution_count": 79,
   "id": "4798de2d-33e0-4381-ae22-37194fb17daa",
   "metadata": {},
   "outputs": [],
   "source": [
    "base_url = 'https://www.noon.com/egypt-en/electronics-and-mobiles/mobiles-and-accessories/mobiles-20905/?limit=50&page={}&sort%5Bby%5D=popularity&sort%5Bdir%5D=desc&gclid=EAIaIQobChMIkIj304-7hwMVG7ZoCR31Qg02EAAYASAAEgKkZ_D_BwE&utm_campaign=C1000151355N_eg_en_web_searchxxexactandphrasexxbrandpurexx08082022_noon_web_c1000088l_acquisition_sembranded_&utm_medium=cpc&utm_source=C1000088L'\n",
    "\n",
    "for page in range(1, 11):\n",
    "    driver.get(base_url.format(page))\n",
    "    time.sleep(3) \n",
    "    phones = driver.find_elements(By.CSS_SELECTOR, '[data-qa=\"product-name\"]')\n",
    "    for phone in phones :\n",
    "        phone_name = phone.get_attribute('title')\n",
    "        phone_name_list.append(phone_name)\n",
    "        \n",
    "    prices = driver.find_elements(By.CSS_SELECTOR, 'strong.amount')\n",
    "    for price in prices :\n",
    "        price_text = price.text\n",
    "        phone_price_list.append(price_text)\n",
    "\n",
    "\n",
    "time.sleep(10)\n",
    "driver.quit()"
   ]
  },
  {
   "cell_type": "code",
   "execution_count": 80,
   "id": "6880ee07-b4d6-4a51-8669-59b31c451db5",
   "metadata": {},
   "outputs": [],
   "source": [
    "df = pd.DataFrame({\n",
    "    'Phone Name': phone_name_list,\n",
    "    'Price (EGP)': phone_price_list\n",
    "})"
   ]
  },
  {
   "cell_type": "code",
   "execution_count": 81,
   "id": "a81e64f8-bae8-4fef-a471-ae9a3deeef78",
   "metadata": {},
   "outputs": [
    {
     "data": {
      "text/html": [
       "<div>\n",
       "<style scoped>\n",
       "    .dataframe tbody tr th:only-of-type {\n",
       "        vertical-align: middle;\n",
       "    }\n",
       "\n",
       "    .dataframe tbody tr th {\n",
       "        vertical-align: top;\n",
       "    }\n",
       "\n",
       "    .dataframe thead th {\n",
       "        text-align: right;\n",
       "    }\n",
       "</style>\n",
       "<table border=\"1\" class=\"dataframe\">\n",
       "  <thead>\n",
       "    <tr style=\"text-align: right;\">\n",
       "      <th></th>\n",
       "      <th>Phone Name</th>\n",
       "      <th>Price (EGP)</th>\n",
       "    </tr>\n",
       "  </thead>\n",
       "  <tbody>\n",
       "    <tr>\n",
       "      <th>0</th>\n",
       "      <td>Samsung Galaxy A15 Dual Sim Blue Black 8GB RAM...</td>\n",
       "      <td>8,860</td>\n",
       "    </tr>\n",
       "    <tr>\n",
       "      <th>1</th>\n",
       "      <td>Samsung Galaxy A15 Dual Sim Light Blue 8GB RAM...</td>\n",
       "      <td>8,750</td>\n",
       "    </tr>\n",
       "    <tr>\n",
       "      <th>2</th>\n",
       "      <td>Infinix Hot 40i Dual SIM Starlit Black 4+4GB R...</td>\n",
       "      <td>4,649</td>\n",
       "    </tr>\n",
       "    <tr>\n",
       "      <th>3</th>\n",
       "      <td>Samsung Galaxy A05s Dual SIM Silver 4GB RAM 12...</td>\n",
       "      <td>5,400</td>\n",
       "    </tr>\n",
       "    <tr>\n",
       "      <th>4</th>\n",
       "      <td>ITEL A70 Dual SIM Starlish Black 4GB RAM 256GB...</td>\n",
       "      <td>4,299</td>\n",
       "    </tr>\n",
       "    <tr>\n",
       "      <th>...</th>\n",
       "      <td>...</td>\n",
       "      <td>...</td>\n",
       "    </tr>\n",
       "    <tr>\n",
       "      <th>463</th>\n",
       "      <td>Samsung Galaxy A13 Dual SIM Black 4GB RAM 64GB...</td>\n",
       "      <td>5,820</td>\n",
       "    </tr>\n",
       "    <tr>\n",
       "      <th>464</th>\n",
       "      <td>NOKIA 6310 Dual Sim Dark Green 8MB RAM 16MB 2G...</td>\n",
       "      <td>1,199</td>\n",
       "    </tr>\n",
       "    <tr>\n",
       "      <th>465</th>\n",
       "      <td>ACE Mobile BUZZ 3 Black 32GB 2GB 3G</td>\n",
       "      <td>2,549</td>\n",
       "    </tr>\n",
       "    <tr>\n",
       "      <th>466</th>\n",
       "      <td>Apple iPhone 14 Plus 128GB Starlight 5G With F...</td>\n",
       "      <td>34,625</td>\n",
       "    </tr>\n",
       "    <tr>\n",
       "      <th>467</th>\n",
       "      <td>IKU IKU S5 Dual SIM Mobile Phone  – Grey</td>\n",
       "      <td>570</td>\n",
       "    </tr>\n",
       "  </tbody>\n",
       "</table>\n",
       "<p>468 rows × 2 columns</p>\n",
       "</div>"
      ],
      "text/plain": [
       "                                            Phone Name Price (EGP)\n",
       "0    Samsung Galaxy A15 Dual Sim Blue Black 8GB RAM...       8,860\n",
       "1    Samsung Galaxy A15 Dual Sim Light Blue 8GB RAM...       8,750\n",
       "2    Infinix Hot 40i Dual SIM Starlit Black 4+4GB R...       4,649\n",
       "3    Samsung Galaxy A05s Dual SIM Silver 4GB RAM 12...       5,400\n",
       "4    ITEL A70 Dual SIM Starlish Black 4GB RAM 256GB...       4,299\n",
       "..                                                 ...         ...\n",
       "463  Samsung Galaxy A13 Dual SIM Black 4GB RAM 64GB...       5,820\n",
       "464  NOKIA 6310 Dual Sim Dark Green 8MB RAM 16MB 2G...       1,199\n",
       "465               ACE Mobile BUZZ 3 Black 32GB 2GB 3G        2,549\n",
       "466  Apple iPhone 14 Plus 128GB Starlight 5G With F...      34,625\n",
       "467          IKU IKU S5 Dual SIM Mobile Phone  – Grey          570\n",
       "\n",
       "[468 rows x 2 columns]"
      ]
     },
     "execution_count": 81,
     "metadata": {},
     "output_type": "execute_result"
    }
   ],
   "source": [
    "df"
   ]
  },
  {
   "cell_type": "code",
   "execution_count": null,
   "id": "499f42e5-5122-4734-8b00-70c7ca88e6b0",
   "metadata": {},
   "outputs": [],
   "source": []
  },
  {
   "cell_type": "code",
   "execution_count": null,
   "id": "a98f332e-4dbb-42ac-bf42-8798549eec00",
   "metadata": {},
   "outputs": [],
   "source": []
  }
 ],
 "metadata": {
  "kernelspec": {
   "display_name": "Python 3 (ipykernel)",
   "language": "python",
   "name": "python3"
  },
  "language_info": {
   "codemirror_mode": {
    "name": "ipython",
    "version": 3
   },
   "file_extension": ".py",
   "mimetype": "text/x-python",
   "name": "python",
   "nbconvert_exporter": "python",
   "pygments_lexer": "ipython3",
   "version": "3.11.7"
  },
  "widgets": {
   "application/vnd.jupyter.widget-state+json": {
    "state": {},
    "version_major": 2,
    "version_minor": 0
   }
  }
 },
 "nbformat": 4,
 "nbformat_minor": 5
}
